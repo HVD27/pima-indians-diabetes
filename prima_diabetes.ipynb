{
  "nbformat": 4,
  "nbformat_minor": 0,
  "metadata": {
    "colab": {
      "name": "prima_diabetes.ipynb",
      "provenance": [],
      "collapsed_sections": [],
      "authorship_tag": "ABX9TyPYiy8Go3m4R5ZCyCgbK48z",
      "include_colab_link": true
    },
    "kernelspec": {
      "name": "python3",
      "display_name": "Python 3"
    },
    "language_info": {
      "name": "python"
    }
  },
  "cells": [
    {
      "cell_type": "markdown",
      "metadata": {
        "id": "view-in-github",
        "colab_type": "text"
      },
      "source": [
        "<a href=\"https://colab.research.google.com/github/HVD27/pima-indians-diabetes/blob/main/prima_diabetes.ipynb\" target=\"_parent\"><img src=\"https://colab.research.google.com/assets/colab-badge.svg\" alt=\"Open In Colab\"/></a>"
      ]
    },
    {
      "cell_type": "code",
      "metadata": {
        "colab": {
          "base_uri": "https://localhost:8080/"
        },
        "id": "NR9esfEMtc9V",
        "outputId": "5247d22b-d569-4ba8-9190-67d49ea2001a"
      },
      "source": [
        "import tensorflow as tf\n",
        "!pip install scikit-plot\n",
        "import numpy as np\n",
        "import pandas as pd\n",
        "\n",
        "import matplotlib.pyplot as plt\n",
        "%matplotlib inline\n",
        "\n",
        "from sklearn.model_selection import train_test_split\n",
        "from sklearn.metrics import confusion_matrix,classification_report\n",
        "import scikitplot as skplt\n",
        "\n",
        "%matplotlib inline"
      ],
      "execution_count": 3,
      "outputs": [
        {
          "output_type": "stream",
          "name": "stdout",
          "text": [
            "Collecting scikit-plot\n",
            "  Downloading scikit_plot-0.3.7-py3-none-any.whl (33 kB)\n",
            "Requirement already satisfied: joblib>=0.10 in /usr/local/lib/python3.7/dist-packages (from scikit-plot) (1.0.1)\n",
            "Requirement already satisfied: scipy>=0.9 in /usr/local/lib/python3.7/dist-packages (from scikit-plot) (1.4.1)\n",
            "Requirement already satisfied: scikit-learn>=0.18 in /usr/local/lib/python3.7/dist-packages (from scikit-plot) (0.22.2.post1)\n",
            "Requirement already satisfied: matplotlib>=1.4.0 in /usr/local/lib/python3.7/dist-packages (from scikit-plot) (3.2.2)\n",
            "Requirement already satisfied: python-dateutil>=2.1 in /usr/local/lib/python3.7/dist-packages (from matplotlib>=1.4.0->scikit-plot) (2.8.2)\n",
            "Requirement already satisfied: pyparsing!=2.0.4,!=2.1.2,!=2.1.6,>=2.0.1 in /usr/local/lib/python3.7/dist-packages (from matplotlib>=1.4.0->scikit-plot) (2.4.7)\n",
            "Requirement already satisfied: cycler>=0.10 in /usr/local/lib/python3.7/dist-packages (from matplotlib>=1.4.0->scikit-plot) (0.10.0)\n",
            "Requirement already satisfied: numpy>=1.11 in /usr/local/lib/python3.7/dist-packages (from matplotlib>=1.4.0->scikit-plot) (1.19.5)\n",
            "Requirement already satisfied: kiwisolver>=1.0.1 in /usr/local/lib/python3.7/dist-packages (from matplotlib>=1.4.0->scikit-plot) (1.3.2)\n",
            "Requirement already satisfied: six in /usr/local/lib/python3.7/dist-packages (from cycler>=0.10->matplotlib>=1.4.0->scikit-plot) (1.15.0)\n",
            "Installing collected packages: scikit-plot\n",
            "Successfully installed scikit-plot-0.3.7\n"
          ]
        }
      ]
    },
    {
      "cell_type": "code",
      "metadata": {
        "id": "PDctmtYTwhK6"
      },
      "source": [
        ""
      ],
      "execution_count": null,
      "outputs": []
    },
    {
      "cell_type": "code",
      "metadata": {
        "id": "K1keZ3UJv58g"
      },
      "source": [
        "from google.colab import drive"
      ],
      "execution_count": 5,
      "outputs": []
    },
    {
      "cell_type": "code",
      "metadata": {
        "colab": {
          "base_uri": "https://localhost:8080/"
        },
        "id": "qAV5Hh0zwDso",
        "outputId": "6291ad66-2fbc-4882-c616-a4a84ea756ac"
      },
      "source": [
        "drive.mount('/content/drive')"
      ],
      "execution_count": 7,
      "outputs": [
        {
          "output_type": "stream",
          "name": "stdout",
          "text": [
            "Mounted at /content/drive\n"
          ]
        }
      ]
    },
    {
      "cell_type": "code",
      "metadata": {
        "id": "886ENMXEwxd7"
      },
      "source": [
        ""
      ],
      "execution_count": null,
      "outputs": []
    },
    {
      "cell_type": "code",
      "metadata": {
        "id": "UFQ_3uIouqWj"
      },
      "source": [
        "def Data_work(): \n",
        "  df = pd.read_csv('/content/drive/MyDrive/data/diabetes.csv')\n",
        "  col_norm =['Pregnancies', 'Glucose', 'BloodPressure', 'SkinThickness', 'Insulin',\n",
        "       'BMI', 'DiabetesPedigreeFunction', 'Age']\n",
        "  df_norm = df[col_norm]\n",
        "  df1_norm = df[col_norm].apply(lambda x :( (x - x.min()) / (x.max()-x.min()) ) )\n",
        "  Y_Data = df[\"Outcome\"]\n",
        "  X_Data = df1_norm\n",
        "  X_Train, X_Test, Y_Train, Y_Test = train_test_split(X_Data,Y_Data, test_size=0.3,random_state=101)\n",
        "\n",
        "  return X_Train, X_Test, Y_Train, Y_Test"
      ],
      "execution_count": 38,
      "outputs": []
    },
    {
      "cell_type": "code",
      "metadata": {
        "id": "kKsxUeMvuFJO"
      },
      "source": [
        "def feat_map():\n",
        "  feat_Pregnancies = tf.feature_column.numeric_column('Pregnancies')\n",
        "  feat_Glucose = tf.feature_column.numeric_column('Glucose')\n",
        "  feat_BloodPressure = tf.feature_column.numeric_column('BloodPressure')\n",
        "  feat_SkinThickness_tricep = tf.feature_column.numeric_column('SkinThickness')\n",
        "  feat_Insulin = tf.feature_column.numeric_column('Insulin')\n",
        "  feat_BMI = tf.feature_column.numeric_column('BMI')\n",
        "  feat_DiabetesPedigreeFunction  = tf.feature_column.numeric_column('DiabetesPedigreeFunction')\n",
        "  feat_Age = tf.feature_column.numeric_column('Age')\n",
        "\n",
        "  feature_column = [feat_Pregnancies, feat_Glucose, feat_BloodPressure, \n",
        "                  feat_SkinThickness_tricep, feat_Insulin, \n",
        "                 feat_BMI , feat_DiabetesPedigreeFunction, feat_Age]\n",
        "  return feature_column\n"
      ],
      "execution_count": 39,
      "outputs": []
    },
    {
      "cell_type": "code",
      "metadata": {
        "id": "fZn-q7wMyPI3"
      },
      "source": [
        "X_Train, X_Test, Y_Train, Y_Test = Data_work()\n",
        "feature_column = feat_map()\n",
        "input_func = tf.compat.v1.estimator.inputs.pandas_input_fn(X_Train, \n",
        "                                                 Y_Train,\n",
        "                                                 batch_size=50,\n",
        "                                                 num_epochs=1000,\n",
        "                                                 shuffle=True)\n",
        "\n",
        "predict_input_fn = tf.compat.v1.estimator.inputs.pandas_input_fn(\n",
        "      x=X_Test,\n",
        "      num_epochs=1,\n",
        "      shuffle=False)"
      ],
      "execution_count": 45,
      "outputs": []
    },
    {
      "cell_type": "code",
      "metadata": {
        "colab": {
          "base_uri": "https://localhost:8080/"
        },
        "id": "Dem2X03azgBW",
        "outputId": "a7de104d-b7da-4115-dd90-f0c9fe9a2bbd"
      },
      "source": [
        "dnnmodel = tf.estimator.DNNClassifier(\n",
        "                                      hidden_units = [20,20],\n",
        "                                      feature_columns = feature_column,\n",
        "                                      n_classes = 2,\n",
        "                                      activation_fn=tf.nn.softmax,\n",
        "                                      dropout= None,\n",
        "                                      optimizer = tf.optimizers.Adam(learning_rate=0.01)\n",
        "                                      )"
      ],
      "execution_count": 46,
      "outputs": [
        {
          "output_type": "stream",
          "name": "stdout",
          "text": [
            "INFO:tensorflow:Using default config.\n",
            "WARNING:tensorflow:Using temporary folder as model directory: /tmp/tmppvp2dmu1\n",
            "INFO:tensorflow:Using config: {'_model_dir': '/tmp/tmppvp2dmu1', '_tf_random_seed': None, '_save_summary_steps': 100, '_save_checkpoints_steps': None, '_save_checkpoints_secs': 600, '_session_config': allow_soft_placement: true\n",
            "graph_options {\n",
            "  rewrite_options {\n",
            "    meta_optimizer_iterations: ONE\n",
            "  }\n",
            "}\n",
            ", '_keep_checkpoint_max': 5, '_keep_checkpoint_every_n_hours': 10000, '_log_step_count_steps': 100, '_train_distribute': None, '_device_fn': None, '_protocol': None, '_eval_distribute': None, '_experimental_distribute': None, '_experimental_max_worker_delay_secs': None, '_session_creation_timeout_secs': 7200, '_checkpoint_save_graph_def': True, '_service': None, '_cluster_spec': ClusterSpec({}), '_task_type': 'worker', '_task_id': 0, '_global_id_in_cluster': 0, '_master': '', '_evaluation_master': '', '_is_chief': True, '_num_ps_replicas': 0, '_num_worker_replicas': 1}\n"
          ]
        }
      ]
    },
    {
      "cell_type": "code",
      "metadata": {
        "colab": {
          "base_uri": "https://localhost:8080/"
        },
        "id": "eNWy-bpPzzco",
        "outputId": "e765681c-1338-44af-f738-df9710b868ec"
      },
      "source": [
        "history = dnnmodel.train(input_fn=input_func, steps=500)"
      ],
      "execution_count": 47,
      "outputs": [
        {
          "output_type": "stream",
          "name": "stdout",
          "text": [
            "INFO:tensorflow:Calling model_fn.\n",
            "INFO:tensorflow:Done calling model_fn.\n",
            "INFO:tensorflow:Create CheckpointSaverHook.\n",
            "INFO:tensorflow:Graph was finalized.\n",
            "INFO:tensorflow:Running local_init_op.\n",
            "INFO:tensorflow:Done running local_init_op.\n",
            "INFO:tensorflow:Calling checkpoint listeners before saving checkpoint 0...\n",
            "INFO:tensorflow:Saving checkpoints for 0 into /tmp/tmppvp2dmu1/model.ckpt.\n",
            "INFO:tensorflow:Calling checkpoint listeners after saving checkpoint 0...\n",
            "INFO:tensorflow:loss = 0.6944779, step = 0\n",
            "INFO:tensorflow:global_step/sec: 228.433\n",
            "INFO:tensorflow:loss = 0.6253004, step = 100 (0.441 sec)\n",
            "INFO:tensorflow:global_step/sec: 275.726\n",
            "INFO:tensorflow:loss = 0.5789505, step = 200 (0.373 sec)\n",
            "INFO:tensorflow:global_step/sec: 276.14\n",
            "INFO:tensorflow:loss = 0.5254495, step = 300 (0.355 sec)\n",
            "INFO:tensorflow:global_step/sec: 334.185\n",
            "INFO:tensorflow:loss = 0.45430166, step = 400 (0.296 sec)\n",
            "INFO:tensorflow:Calling checkpoint listeners before saving checkpoint 500...\n",
            "INFO:tensorflow:Saving checkpoints for 500 into /tmp/tmppvp2dmu1/model.ckpt.\n",
            "INFO:tensorflow:Calling checkpoint listeners after saving checkpoint 500...\n",
            "INFO:tensorflow:Loss for final step: 0.44642282.\n"
          ]
        }
      ]
    },
    {
      "cell_type": "code",
      "metadata": {
        "colab": {
          "base_uri": "https://localhost:8080/"
        },
        "id": "2U_YTK_g0Qqp",
        "outputId": "ac6d364e-58fe-42a1-d7a3-fa92cd84d8c0"
      },
      "source": [
        "eval_func = tf.compat.v1.estimator.inputs.pandas_input_fn(X_Test,\n",
        "                                               Y_Test,\n",
        "                                               batch_size=10,\n",
        "                                               num_epochs=1,\n",
        "                                               shuffle=False)\n",
        "dnnmodel.evaluate(eval_func)"
      ],
      "execution_count": 49,
      "outputs": [
        {
          "output_type": "stream",
          "name": "stdout",
          "text": [
            "INFO:tensorflow:Calling model_fn.\n",
            "INFO:tensorflow:Done calling model_fn.\n",
            "INFO:tensorflow:Starting evaluation at 2021-10-19T19:12:47\n",
            "INFO:tensorflow:Graph was finalized.\n",
            "INFO:tensorflow:Restoring parameters from /tmp/tmppvp2dmu1/model.ckpt-500\n",
            "INFO:tensorflow:Running local_init_op.\n",
            "INFO:tensorflow:Done running local_init_op.\n",
            "INFO:tensorflow:Inference Time : 0.72181s\n",
            "INFO:tensorflow:Finished evaluation at 2021-10-19-19:12:48\n",
            "INFO:tensorflow:Saving dict for global step 500: accuracy = 0.7878788, accuracy_baseline = 0.64935064, auc = 0.85255146, auc_precision_recall = 0.7647027, average_loss = 0.4540346, global_step = 500, label/mean = 0.35064936, loss = 0.45362565, precision = 0.7352941, prediction/mean = 0.33575824, recall = 0.61728394\n",
            "INFO:tensorflow:Saving 'checkpoint_path' summary for global step 500: /tmp/tmppvp2dmu1/model.ckpt-500\n"
          ]
        },
        {
          "output_type": "execute_result",
          "data": {
            "text/plain": [
              "{'accuracy': 0.7878788,\n",
              " 'accuracy_baseline': 0.64935064,\n",
              " 'auc': 0.85255146,\n",
              " 'auc_precision_recall': 0.7647027,\n",
              " 'average_loss': 0.4540346,\n",
              " 'global_step': 500,\n",
              " 'label/mean': 0.35064936,\n",
              " 'loss': 0.45362565,\n",
              " 'precision': 0.7352941,\n",
              " 'prediction/mean': 0.33575824,\n",
              " 'recall': 0.61728394}"
            ]
          },
          "metadata": {},
          "execution_count": 49
        }
      ]
    },
    {
      "cell_type": "code",
      "metadata": {
        "colab": {
          "base_uri": "https://localhost:8080/"
        },
        "id": "ea_gFqc50GeE",
        "outputId": "f75eeb11-bf72-4911-a3bf-a179a7053243"
      },
      "source": [
        "predictions = list(dnnmodel.predict(input_fn=predict_input_fn))\n",
        "prediction = [p[\"class_ids\"][0] for p in predictions]\n",
        "data = classification_report(Y_Test,prediction)\n",
        "conmat = confusion_matrix(Y_Test,prediction)"
      ],
      "execution_count": 50,
      "outputs": [
        {
          "output_type": "stream",
          "name": "stdout",
          "text": [
            "INFO:tensorflow:Calling model_fn.\n",
            "INFO:tensorflow:Done calling model_fn.\n",
            "INFO:tensorflow:Graph was finalized.\n",
            "INFO:tensorflow:Restoring parameters from /tmp/tmppvp2dmu1/model.ckpt-500\n",
            "INFO:tensorflow:Running local_init_op.\n",
            "INFO:tensorflow:Done running local_init_op.\n"
          ]
        }
      ]
    },
    {
      "cell_type": "code",
      "metadata": {
        "colab": {
          "base_uri": "https://localhost:8080/",
          "height": 376
        },
        "id": "JM2kmuh50wPh",
        "outputId": "6e87e846-b3f9-4143-c478-d9ef05c39124"
      },
      "source": [
        "skplt.metrics.plot_confusion_matrix(Y_Test, \n",
        "                                    prediction,\n",
        "                                   figsize=(6,6),\n",
        "                                   title=\"Matrix\")"
      ],
      "execution_count": 52,
      "outputs": [
        {
          "output_type": "execute_result",
          "data": {
            "text/plain": [
              "<matplotlib.axes._subplots.AxesSubplot at 0x7f544999ac50>"
            ]
          },
          "metadata": {},
          "execution_count": 52
        },
        {
          "output_type": "display_data",
          "data": {
            "image/png": "[encoded data removed]",
            "text/plain": [
              "<Figure size 432x432 with 2 Axes>"
            ]
          },
          "metadata": {
            "needs_background": "light"
          }
        }
      ]
    },
    {
      "cell_type": "code",
      "metadata": {
        "colab": {
          "base_uri": "https://localhost:8080/"
        },
        "id": "bbFlmtCd-RFR",
        "outputId": "9467507d-aa61-4389-bda4-29f32ce95033"
      },
      "source": [
        "print(data)"
      ],
      "execution_count": 53,
      "outputs": [
        {
          "output_type": "stream",
          "name": "stdout",
          "text": [
            "              precision    recall  f1-score   support\n",
            "\n",
            "           0       0.81      0.88      0.84       150\n",
            "           1       0.74      0.62      0.67        81\n",
            "\n",
            "    accuracy                           0.79       231\n",
            "   macro avg       0.77      0.75      0.76       231\n",
            "weighted avg       0.78      0.79      0.78       231\n",
            "\n"
          ]
        }
      ]
    },
    {
      "cell_type": "code",
      "metadata": {
        "id": "7072zWWK-YyG"
      },
      "source": [
        ""
      ],
      "execution_count": null,
      "outputs": []
    }
  ]
}